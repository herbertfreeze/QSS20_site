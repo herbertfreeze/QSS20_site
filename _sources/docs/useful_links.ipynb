{
 "cells": [
  {
   "cell_type": "markdown",
   "id": "ad90b939",
   "metadata": {},
   "source": [
    "(useful_links)=\n",
    "\n",
    "# Useful Links\n",
    "\n",
    "## Surveys\n",
    "\n",
    "* [Final project group preferences form](https://forms.gle/FxrVnLGXrLiGDtTh6) (due Friday, 01/27/23)\n",
    "* [Problem set 2 feedback form](https://forms.gle/R7GD8CYZiH182wwJ9) to complete *after* submitting pset 2\n",
    "* [Complete this student information form](https://forms.gle/irAmC6sbBjEwKvL99)\n",
    "\n",
    "\n",
    "## Links for getting started\n",
    "\n",
    "* [Join the course DataCamp](https://www.datacamp.com/groups/shared_links/434e7826f38af70536acc1d3bf83fe921babc9c35b966195cf577468505c0473)\n",
    "* [Join the course Piazza](https://piazza.com/dartmouth/winter2023/qss020wi23)\n",
    "* [Create a free Overleaf account](https://www.overleaf.com/register)\n",
    "* [Create a free GitHub account](https://docs.github.com/en/github/getting-started-with-github/signing-up-for-a-new-github-account)\n",
    "\n",
    "\n",
    "## GitHub and coding resources\n",
    "\n",
    "* [Main course repository with slides & activities](https://github.com/jhaber-zz/QSS20_public)\n",
    "* [Jupyter Hub](https://jhub.dartmouth.edu/)\n",
    "* [Download Anaconda](https://www.anaconda.com/products/distribution)\n",
    "* [Introduction to Jupyter Notebooks](https://realpython.com/jupyter-notebook-introduction/)\n",
    "* [Learn LaTeX in 30 minutes](https://www.overleaf.com/learn/latex/Learn_LaTeX_in_30_minutes)"
   ]
  }
 ],
 "metadata": {
  "jupytext": {
   "text_representation": {
    "extension": ".md",
    "format_name": "myst"
   }
  },
  "kernelspec": {
   "display_name": "Python 3",
   "language": "python",
   "name": "python3"
  },
  "language_info": {
   "codemirror_mode": {
    "name": "ipython",
    "version": 3
   },
   "file_extension": ".py",
   "mimetype": "text/x-python",
   "name": "python",
   "nbconvert_exporter": "python",
   "pygments_lexer": "ipython3",
   "version": "3.8.10"
  },
  "source_map": [
   10
  ]
 },
 "nbformat": 4,
 "nbformat_minor": 5
}