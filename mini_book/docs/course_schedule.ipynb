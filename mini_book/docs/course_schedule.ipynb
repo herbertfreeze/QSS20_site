{
 "cells": [
  {
   "cell_type": "markdown",
   "metadata": {},
   "source": [
    "# Course Schedule\n",
    "\n",
    "The course will meet on Monday and Wednesday from 3:30 to 5:20 PM EST. \n",
    "\n",
    "Here is the current week-by-week schedule 📅 . We may adjust as we go along. \n",
    "\n",
    "To get started, let's create the course schedule using the pandas module in Python. **Click \"show\" to see the underlying code!**"
   ]
  },
  {
   "cell_type": "code",
   "execution_count": 1,
   "metadata": {
    "tags": [
     "hide_input"
    ]
   },
   "outputs": [
    {
     "data": {
      "text/plain": [
       "0     Wednesday 01-04\n",
       "1        Monday 01-09\n",
       "2     Wednesday 01-11\n",
       "3       Tuesday 01-17\n",
       "4     Wednesday 01-18\n",
       "5        Monday 01-23\n",
       "6     Wednesday 01-25\n",
       "7        Monday 01-30\n",
       "8     Wednesday 02-01\n",
       "9        Monday 02-06\n",
       "10    Wednesday 02-08\n",
       "11       Monday 02-13\n",
       "12    Wednesday 02-15\n",
       "13       Monday 02-20\n",
       "14    Wednesday 02-22\n",
       "15       Monday 02-27\n",
       "16    Wednesday 03-01\n",
       "17       Monday 03-06\n",
       "Name: day_date, dtype: object"
      ]
     },
     "metadata": {},
     "output_type": "display_data"
    }
   ],
   "source": [
    "# import modules\n",
    "import pandas as pd\n",
    "import re\n",
    "import numpy as np\n",
    "\n",
    "\n",
    "# tell python to display output and print multiple objects\n",
    "from IPython.display import display, HTML\n",
    "from IPython.core.interactiveshell import InteractiveShell\n",
    "InteractiveShell.ast_node_interactivity = \"all\"\n",
    "\n",
    "# create range b/t start and end date of course\n",
    "start_date = pd.to_datetime(\"2023-01-04\")\n",
    "end_date = pd.to_datetime(\"2023-03-07\")\n",
    "st_alldates = pd.date_range(start_date, end_date)\n",
    "\n",
    "# subset to days in that range equal to Monday or Wednesday or make-up class for MLK day\n",
    "st_alldates = st_alldates[~st_alldates.isin(['2023-01-16'])] # remove MLK holiday\n",
    "st_mw = st_alldates[st_alldates.day_name().isin(['Monday', 'Wednesday']) | st_alldates.isin(['2023-01-17'])]\n",
    "\n",
    "# create DataFrame with that information\n",
    "st_dates = [re.sub(\"2023\\\\-\", \"\", str(day.date())) for day in st_mw] \n",
    "course_sched = pd.DataFrame({'dow': st_mw.day_name(),\n",
    "                             'date': st_dates})\n",
    "course_sched['day_date'] = course_sched.dow.astype(str) + \" \" + \\\n",
    "            course_sched.date.astype(str) \n",
    "\n",
    "# display the resulting date sequence\n",
    "display(course_sched.day_date)"
   ]
  },
  {
   "cell_type": "markdown",
   "metadata": {},
   "source": [
    "The next few blocks of code creates the actual schedule content by joining the above list of dates with course concepts. "
   ]
  },
  {
   "cell_type": "code",
   "execution_count": 2,
   "metadata": {
    "tags": [
     "hide_input"
    ]
   },
   "outputs": [
    {
     "name": "stdout",
     "output_type": "stream",
     "text": [
      "               Date                                           Concepts\n",
      "0   Wednesday 01-04     Course intro. & syllabus review (asynchronous)\n",
      "1      Monday 01-09  Python basics (variables, lists, arrays) & sof...\n",
      "2   Wednesday 01-11  Pandas for data manipulation 1 + static data v...\n",
      "3     Tuesday 01-17                                 Pandas 2 (wrap-up)\n",
      "4   Wednesday 01-18                             User-defined functions\n",
      "5      Monday 01-23             Workflow basics: command line & Github\n",
      "6   Wednesday 01-25                                     Reshaping data\n",
      "7      Monday 01-30                      Catchup: Merging data & LaTeX\n",
      "8   Wednesday 02-01                        Regular expressions (Regex)\n",
      "9      Monday 02-06                       Text-as-data 1 (text mining)\n",
      "10  Wednesday 02-08                    Text-as-data 2 (topic modeling)\n",
      "11     Monday 02-13                               APIs 1 (NAEP & Yelp)\n",
      "12  Wednesday 02-15                                   APIs 2 (Twitter)\n",
      "13     Monday 02-20  Supervised machine learning 1 (logit & regular...\n",
      "14  Wednesday 02-22  Supervised machine learning 2 (Trees & optimiz...\n",
      "15     Monday 02-27                                                SQL\n",
      "16  Wednesday 03-01                         Final project work session\n",
      "17     Monday 03-06                                Final presentations\n"
     ]
    }
   ],
   "source": [
    "# create basic schedule content\n",
    "\n",
    "# list of concepts\n",
    "concepts = [\"Course intro. & syllabus review (asynchronous)\",\n",
    "            \"Python basics (variables, lists, arrays) & software setup\",\n",
    "            \"Pandas for data manipulation 1 + static data visualization\",\n",
    "            \"Pandas 2 (wrap-up)\",\n",
    "            \"User-defined functions\",\n",
    "            \"Workflow basics: command line & Github\",\n",
    "            \"Reshaping data\",\n",
    "            \"Catchup: Merging data & LaTeX\",\n",
    "            \"Regular expressions (Regex)\",\n",
    "            \"Text-as-data 1 (text mining)\",\n",
    "            \"Text-as-data 2 (topic modeling)\",\n",
    "            \"APIs 1 (NAEP & Yelp)\",\n",
    "            \"APIs 2 (Twitter)\",\n",
    "            \"Supervised machine learning 1 (logit & regularization)\",\n",
    "            \"Supervised machine learning 2 (Trees & optimization)\",\n",
    "            \"SQL\",\n",
    "            \"Final project work session\",\n",
    "            \"Final presentations\"]\n",
    "\n",
    "# check that concepts match number of weeks\n",
    "assert len(course_sched.day_date) == len(concepts)\n",
    "\n",
    "# combine dates with concepts\n",
    "course_sched_concepts = pd.DataFrame({'Date': course_sched.day_date,\n",
    "                                     'Concepts': concepts})\n",
    "\n",
    "df = course_sched_concepts.copy()\n",
    "\n",
    "print(df)"
   ]
  },
  {
   "cell_type": "code",
   "execution_count": 3,
   "metadata": {
    "tags": [
     "hide_input"
    ]
   },
   "outputs": [
    {
     "data": {
      "text/plain": [
       "'\\n**Optional DataCamp courses & chapters for further learning:**\\n\\n- Introduction to data visualization with MatPlotLib\\n- Introduction to data visualization with ggplot2\\n- Intermediate python: loops\\n- Python data science toolbox (Part 1)\\n- Object-Oriented Programming in Python: OOP Fundamentals\\n- Regular expressions in Python (first three chapters)\\n- Introduction to natural language processing in Python\\n- Introduction to databases in Python\\n- Intermediate importing data in python\\n- Intermediate SQL queries\\n- Web scraping in python\\n'"
      ]
     },
     "execution_count": 3,
     "metadata": {},
     "output_type": "execute_result"
    }
   ],
   "source": [
    "# add DataCamp modules to schedule, matching to concepts conditionally\n",
    "match_col = \"Concepts\" # concepts column to match on\n",
    "\n",
    "tomatch = [df[match_col] == \"Python basics (variables, lists, arrays) & software setup\",\n",
    "           df[match_col] == \"Workflow basics: command line & Github\",\n",
    "           df[match_col] == \"Pandas for data manipulation 1 + static data visualization\",\n",
    "           df[match_col] == \"User-defined functions & LaTeX\",\n",
    "           df[match_col] == \"Catchup: Merging data & LaTeX\",\n",
    "           df[match_col] == \"Regular expressions (Regex)\",\n",
    "           df[match_col] == \"Text-as-data 1 (text mining)\",\n",
    "           df[match_col] == \"APIs 1 (NAEP & Yelp)\",\n",
    "           df[match_col] == \"APIs 2 (Twitter)\",\n",
    "           df[match_col] == \"Supervised machine learning 1 (logit & regularization)\",\n",
    "           df[match_col] == \"SQL\",\n",
    "           df[match_col] == \"Web-scraping\"]\n",
    "\n",
    "# define DataCamp modules\n",
    "modules = [\"Intro. to Python (chpts. 2-3)\",\n",
    "           \"Intro. to Shell, Intro. to GitHub (chpts.)\",\n",
    "           \"Data Manipulation with pandas (course)\",\n",
    "           \"Writing your own functions (chpt.)\",\n",
    "           \"Joining Data with pandas (chpts. 1-2)\",\n",
    "           \"Regular Expressions for Pattern Matching (chpt.)\",\n",
    "           \"Text preprocessing, POS tagging and NER (chpt.)\",\n",
    "           \"Interacting with APIs to import data from the web (chpt.)\", \n",
    "           \"Diving deep into the Twitter API (chpt.)\", \n",
    "           \"Supervised Learning with scikit-learn (course)\",\n",
    "           \"Intro. to SQL (chpts. 1-2)\",\n",
    "           \"Intro. to HTML (chpt.)\"]\n",
    "\n",
    "'''\n",
    "**Optional DataCamp courses & chapters for further learning:**\n",
    "\n",
    "- Introduction to data visualization with MatPlotLib\n",
    "- Introduction to data visualization with ggplot2\n",
    "- Intermediate python: loops\n",
    "- Python data science toolbox (Part 1)\n",
    "- Object-Oriented Programming in Python: OOP Fundamentals\n",
    "- Regular expressions in Python (first three chapters)\n",
    "- Introduction to natural language processing in Python\n",
    "- Introduction to databases in Python\n",
    "- Intermediate importing data in python\n",
    "- Intermediate SQL queries\n",
    "- Web scraping in python\n",
    "'''\n",
    "\n",
    "df[\"DataCamp module(s) (if any)\"] = np.select(tomatch, \n",
    "                                              modules, \n",
    "                                              default = \"\")"
   ]
  },
  {
   "cell_type": "code",
   "execution_count": 4,
   "metadata": {
    "tags": [
     "hide_input"
    ]
   },
   "outputs": [],
   "source": [
    "# add assignments to schedule, matching to dates/concepts conditionally\n",
    "date_col = \"Date\" # date column to match on\n",
    "\n",
    "due_dates = [df[date_col] == \"Wednesday 01-11\",\n",
    "             df[date_col] == \"Wednesday 01-18\",\n",
    "             df[date_col] == \"Wednesday 02-01\",\n",
    "             df[date_col] == \"Wednesday 02-08\",\n",
    "             df[date_col] == \"Wednesday 02-15\",\n",
    "             df[date_col] == \"Wednesday 02-22\",\n",
    "             df[date_col] == \"Wednesday 03-01\",\n",
    "             df[date_col] == \"Monday 03-06\"]\n",
    "\n",
    "# define assignments\n",
    "assignments = [\"Problem set one (solo; due Sunday 01-15)\",\n",
    "               \"Problem set two (submit as group; due Sunday 01-22)\",\n",
    "               \"Problem set three (due Wednesday 02-08)\",\n",
    "               \"Final project milestone 1 (due Sunday 02-12)\",\n",
    "               \"Problem set four (due Sunday 02-19)\",\n",
    "               \"Final project milestone 2 (due Sunday 02-26) \",\n",
    "               \"Problem set five (due Friday 03-03)\",\n",
    "               \"Final project presentation (paper due Monday 03-13)\"]\n",
    "\n",
    "df[\"Due (11:59 PM EST unless otherwise specified)\"] = np.select(due_dates,\n",
    "                                                                assignments,\n",
    "                                                                default = \"\")"
   ]
  },
  {
   "cell_type": "code",
   "execution_count": 5,
   "metadata": {},
   "outputs": [
    {
     "data": {
      "text/html": [
       "<table border=\"1\" class=\"dataframe\">\n",
       "  <thead>\n",
       "    <tr style=\"text-align: right;\">\n",
       "      <th>Date</th>\n",
       "      <th>Concepts</th>\n",
       "      <th>DataCamp module(s) (if any)</th>\n",
       "      <th>Due (11:59 PM EST unless otherwise specified)</th>\n",
       "    </tr>\n",
       "  </thead>\n",
       "  <tbody>\n",
       "    <tr>\n",
       "      <td>Wednesday 01-04</td>\n",
       "      <td>Course intro. & syllabus review (asynchronous)</td>\n",
       "      <td></td>\n",
       "      <td></td>\n",
       "    </tr>\n",
       "    <tr>\n",
       "      <td>Monday 01-09</td>\n",
       "      <td>Python basics (variables, lists, arrays) & software setup</td>\n",
       "      <td>Intro. to Python (chpts. 2-3)</td>\n",
       "      <td></td>\n",
       "    </tr>\n",
       "    <tr>\n",
       "      <td>Wednesday 01-11</td>\n",
       "      <td>Pandas for data manipulation 1 + static data visualization</td>\n",
       "      <td>Data Manipulation with pandas (course)</td>\n",
       "      <td>Problem set one (solo; due Sunday 01-15)</td>\n",
       "    </tr>\n",
       "    <tr>\n",
       "      <td>Tuesday 01-17</td>\n",
       "      <td>Pandas 2 (wrap-up)</td>\n",
       "      <td></td>\n",
       "      <td></td>\n",
       "    </tr>\n",
       "    <tr>\n",
       "      <td>Wednesday 01-18</td>\n",
       "      <td>User-defined functions</td>\n",
       "      <td></td>\n",
       "      <td>Problem set two (submit as group; due Sunday 01-22)</td>\n",
       "    </tr>\n",
       "    <tr>\n",
       "      <td>Monday 01-23</td>\n",
       "      <td>Workflow basics: command line & Github</td>\n",
       "      <td>Intro. to Shell, Intro. to GitHub (chpts.)</td>\n",
       "      <td></td>\n",
       "    </tr>\n",
       "    <tr>\n",
       "      <td>Wednesday 01-25</td>\n",
       "      <td>Reshaping data</td>\n",
       "      <td></td>\n",
       "      <td></td>\n",
       "    </tr>\n",
       "    <tr>\n",
       "      <td>Monday 01-30</td>\n",
       "      <td>Catchup: Merging data & LaTeX</td>\n",
       "      <td>Joining Data with pandas (chpts. 1-2)</td>\n",
       "      <td></td>\n",
       "    </tr>\n",
       "    <tr>\n",
       "      <td>Wednesday 02-01</td>\n",
       "      <td>Regular expressions (Regex)</td>\n",
       "      <td>Regular Expressions for Pattern Matching (chpt.)</td>\n",
       "      <td>Problem set three (due Wednesday 02-08)</td>\n",
       "    </tr>\n",
       "    <tr>\n",
       "      <td>Monday 02-06</td>\n",
       "      <td>Text-as-data 1 (text mining)</td>\n",
       "      <td>Text preprocessing, POS tagging and NER (chpt.)</td>\n",
       "      <td></td>\n",
       "    </tr>\n",
       "    <tr>\n",
       "      <td>Wednesday 02-08</td>\n",
       "      <td>Text-as-data 2 (topic modeling)</td>\n",
       "      <td></td>\n",
       "      <td>Final project milestone 1 (due Sunday 02-12)</td>\n",
       "    </tr>\n",
       "    <tr>\n",
       "      <td>Monday 02-13</td>\n",
       "      <td>APIs 1 (NAEP & Yelp)</td>\n",
       "      <td>Interacting with APIs to import data from the web (chpt.)</td>\n",
       "      <td></td>\n",
       "    </tr>\n",
       "    <tr>\n",
       "      <td>Wednesday 02-15</td>\n",
       "      <td>APIs 2 (Twitter)</td>\n",
       "      <td>Diving deep into the Twitter API (chpt.)</td>\n",
       "      <td>Problem set four (due Sunday 02-19)</td>\n",
       "    </tr>\n",
       "    <tr>\n",
       "      <td>Monday 02-20</td>\n",
       "      <td>Supervised machine learning 1 (logit & regularization)</td>\n",
       "      <td>Supervised Learning with scikit-learn (course)</td>\n",
       "      <td></td>\n",
       "    </tr>\n",
       "    <tr>\n",
       "      <td>Wednesday 02-22</td>\n",
       "      <td>Supervised machine learning 2 (Trees & optimization)</td>\n",
       "      <td></td>\n",
       "      <td>Final project milestone 2 (due Sunday 02-26)</td>\n",
       "    </tr>\n",
       "    <tr>\n",
       "      <td>Monday 02-27</td>\n",
       "      <td>SQL</td>\n",
       "      <td>Intro. to SQL (chpts. 1-2)</td>\n",
       "      <td></td>\n",
       "    </tr>\n",
       "    <tr>\n",
       "      <td>Wednesday 03-01</td>\n",
       "      <td>Final project work session</td>\n",
       "      <td></td>\n",
       "      <td>Problem set five (due Friday 03-03)</td>\n",
       "    </tr>\n",
       "    <tr>\n",
       "      <td>Monday 03-06</td>\n",
       "      <td>Final presentations</td>\n",
       "      <td></td>\n",
       "      <td>Final project presentation (paper due Monday 03-14)</td>\n",
       "    </tr>\n",
       "  </tbody>\n",
       "</table>"
      ],
      "text/plain": [
       "<IPython.core.display.HTML object>"
      ]
     },
     "execution_count": 5,
     "metadata": {},
     "output_type": "execute_result"
    }
   ],
   "source": [
    "HTML(df.to_html(index=False, escape = False))"
   ]
  }
 ],
 "metadata": {
  "celltoolbar": "Tags",
  "kernelspec": {
   "display_name": "Python 3",
   "language": "python",
   "name": "python3"
  },
  "language_info": {
   "codemirror_mode": {
    "name": "ipython",
    "version": 3
   },
   "file_extension": ".py",
   "mimetype": "text/x-python",
   "name": "python",
   "nbconvert_exporter": "python",
   "pygments_lexer": "ipython3",
   "version": "3.8.10"
  }
 },
 "nbformat": 4,
 "nbformat_minor": 4
}
